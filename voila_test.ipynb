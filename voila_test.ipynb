{
  "nbformat": 4,
  "nbformat_minor": 0,
  "metadata": {
    "colab": {
      "provenance": [],
      "authorship_tag": "ABX9TyMOhfT8DVuEdAcgKRDaalyN",
      "include_colab_link": true
    },
    "kernelspec": {
      "name": "python3",
      "display_name": "Python 3"
    },
    "language_info": {
      "name": "python"
    }
  },
  "cells": [
    {
      "cell_type": "markdown",
      "metadata": {
        "id": "view-in-github",
        "colab_type": "text"
      },
      "source": [
        "<a href=\"https://colab.research.google.com/github/PaulaManoella/voila-binder-test/blob/main/voila_test.ipynb\" target=\"_parent\"><img src=\"https://colab.research.google.com/assets/colab-badge.svg\" alt=\"Open In Colab\"/></a>"
      ]
    },
    {
      "cell_type": "code",
      "execution_count": null,
      "metadata": {
        "id": "VdjVzZg1rWrx"
      },
      "outputs": [],
      "source": [
        "import ipywidgets as widgets\n",
        "from IPython.display import display\n",
        "\n",
        "# Dropdown de exemplo\n",
        "curso = widgets.Dropdown(\n",
        "    options=['Curso A', 'Curso B'],\n",
        "    description='Curso:'\n",
        ")\n",
        "display(curso)\n",
        "\n",
        "# Botão\n",
        "botao = widgets.Button(description=\"Gerar relatório\")\n",
        "display(botao)\n",
        "\n",
        "# Ação do botão\n",
        "def ao_clicar(b):\n",
        "    print(f\"Relatório gerado para {curso.value}\")\n",
        "\n",
        "botao.on_click(ao_clicar)"
      ]
    }
  ]
}