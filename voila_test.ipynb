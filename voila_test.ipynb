{
  "nbformat": 4,
  "nbformat_minor": 0,
  "metadata": {
    "colab": {
      "provenance": [],
      "authorship_tag": "ABX9TyMOhfT8DVuEdAcgKRDaalyN",
      "include_colab_link": true
    },
    "kernelspec": {
      "name": "python3",
      "display_name": "Python 3"
    },
    "language_info": {
      "name": "python"
    },
  },
  "cells": [
    {
      "cell_type": "markdown",
      "metadata": {
        "id": "view-in-github",
        "colab_type": "text"
      },
      "source": [
        "<a href=\"https://colab.research.google.com/github/PaulaManoella/voila-binder-test/blob/main/voila_test.ipynb\" target=\"_parent\"><img src=\"https://colab.research.google.com/assets/colab-badge.svg\" alt=\"Open In Colab\"/></a>"
      ]
    },
    {
      "cell_type": "code",
      "execution_count": 1,
      "metadata": {
        "colab": {
          "base_uri": "https://localhost:8080/",
          "height": 81,
          "referenced_widgets": [
            "1d1a5d65e3664bbc9bf9cef7c94b330e",
            "daa2d277a0ec4eb3be62cf994ca7a6a2",
            "6ece940c2bd343c3a527b49a5f1c3741",
            "3b6cd96185cc45718f21f5d74b088543",
            "f15e1b113dde477cb52af5fcfab74dc4",
            "3aa13076b81147b494e7652eff03992d"
          ]
        },
        "id": "VdjVzZg1rWrx",
        "outputId": "394beb8d-0f11-46cb-b08c-a7797bfbe990"
      },
      "outputs": [
        {
          "output_type": "display_data",
          "data": {
            "text/plain": [
              "Dropdown(description='Curso:', options=('Curso A', 'Curso B'), value='Curso A')"
            ],
            "application/vnd.jupyter.widget-view+json": {
              "version_major": 2,
              "version_minor": 0,
              "model_id": "1d1a5d65e3664bbc9bf9cef7c94b330e"
            }
          },
          "metadata": {}
        },
        {
          "output_type": "display_data",
          "data": {
            "text/plain": [
              "Button(description='Gerar relatório', style=ButtonStyle())"
            ],
            "application/vnd.jupyter.widget-view+json": {
              "version_major": 2,
              "version_minor": 0,
              "model_id": "3b6cd96185cc45718f21f5d74b088543"
            }
          },
          "metadata": {}
        }
      ],
      "source": [
        "import ipywidgets as widgets\n",
        "from IPython.display import display\n",
        "\n",
        "# Dropdown de exemplo\n",
        "curso = widgets.Dropdown(\n",
        "    options=['Curso A', 'Curso B'],\n",
        "    description='Curso:'\n",
        ")\n",
        "display(curso)\n",
        "\n",
        "# Botão\n",
        "botao = widgets.Button(description=\"Gerar relatório\")\n",
        "display(botao)\n",
        "\n",
        "# Ação do botão\n",
        "def ao_clicar(b):\n",
        "    print(f\"Relatório gerado para {curso.value}\")\n",
        "\n",
        "botao.on_click(ao_clicar)"
      ]
    }
  ]
}
